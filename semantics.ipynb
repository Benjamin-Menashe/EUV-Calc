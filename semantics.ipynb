{
 "cells": [
  {
   "cell_type": "markdown",
   "id": "d8a99eee",
   "metadata": {},
   "source": [
    "# Expected Utility of Questions Calculator\n",
    "_written by Benjamin Menashe, 2022_"
   ]
  },
  {
   "cell_type": "markdown",
   "id": "619d31f5",
   "metadata": {},
   "source": [
    "1. Specifiy the number of prossible worlds and number of actions under consideration, the run the next cell:"
   ]
  },
  {
   "cell_type": "code",
   "execution_count": 1,
   "id": "0918f977",
   "metadata": {},
   "outputs": [
    {
     "data": {
      "application/vnd.jupyter.widget-view+json": {
       "model_id": "ae33a3b12bcf489aa927a46ba5707696",
       "version_major": 2,
       "version_minor": 0
      },
      "text/plain": [
       "Sheet(cells=(Cell(column_end=0, column_start=0, row_end=2, row_start=0, squeeze_row=False, type='numeric', val…"
      ]
     },
     "metadata": {},
     "output_type": "display_data"
    }
   ],
   "source": [
    "### INSERT NUMBERS HERE ###\n",
    "worlds = 3\n",
    "actions = 2\n",
    "###########################\n",
    "\n",
    "\n",
    "import numpy as np\n",
    "import pandas as pd\n",
    "import ipysheet\n",
    "columns = [f\"w{i+1}\" for i in range(worlds)]\n",
    "rows = [f\"action{i+1}\" for i in range(actions)] + ['p(w)']\n",
    "utility = np.zeros((actions, worlds))\n",
    "probs = (1/worlds)*np.ones((1,worlds))\n",
    "Utility_Function = pd.DataFrame(np.concatenate((utility,probs), axis=0), index=rows, columns=columns)\n",
    "sheet = ipysheet.pandas_loader.from_dataframe(Utility_Function)\n",
    "sheet"
   ]
  },
  {
   "cell_type": "markdown",
   "id": "dc6fc376",
   "metadata": {},
   "source": [
    "2. Change the utility values in the table, then run the next cell:\n",
    "\n",
    "(if you change the probability distribution, make sure it adds to 1)"
   ]
  },
  {
   "cell_type": "code",
   "execution_count": 2,
   "id": "cfa1ff90",
   "metadata": {},
   "outputs": [
    {
     "name": "stdout",
     "output_type": "stream",
     "text": [
      "               w1        w2        w3\n",
      "action1  0.000000  0.000000  0.000000\n",
      "action2  0.000000  5.000000  0.000000\n",
      "p(w)     0.333333  0.333333  0.333333\n",
      "\n",
      "The expected value of the question is 2.220446049250313e-16\n"
     ]
    }
   ],
   "source": [
    "df = ipysheet.pandas_loader.to_dataframe(sheet)\n",
    "if np.sum(df.loc['p(w)']) != 1:\n",
    "    print('ERROR! PROBABILITIES DO NOT ADD TO 1')\n",
    "    print()\n",
    "eu_naive = np.zeros(actions)\n",
    "for i in range(actions):\n",
    "    eu_naive[i] = np.dot(np.array(df.loc['p(w)']), np.array(df.iloc[i]))\n",
    "uv_now = max(eu_naive)\n",
    "uv_answers = np.zeros(worlds)\n",
    "for j in range(worlds):\n",
    "    uv_answers[j] = max(df[columns[j]][0:-1])\n",
    "uv_answers\n",
    "uv_gain = uv_answers - uv_now\n",
    "euv_q = np.dot(np.array(df.loc['p(w)']), uv_gain)\n",
    "print(df)\n",
    "print()\n",
    "print(f\"The expected value of the question is {np.round(euv_q,2)}\")"
   ]
  },
  {
   "cell_type": "markdown",
   "id": "ba42a999",
   "metadata": {},
   "source": [
    "<sub>[Based on Van Rooy, 2014]</sub>"
   ]
  },
  {
   "cell_type": "code",
   "execution_count": null,
   "id": "e579d647",
   "metadata": {},
   "outputs": [],
   "source": []
  }
 ],
 "metadata": {
  "kernelspec": {
   "display_name": "Python 3",
   "language": "python",
   "name": "python3"
  },
  "language_info": {
   "codemirror_mode": {
    "name": "ipython",
    "version": 3
   },
   "file_extension": ".py",
   "mimetype": "text/x-python",
   "name": "python",
   "nbconvert_exporter": "python",
   "pygments_lexer": "ipython3",
   "version": "3.8.8"
  }
 },
 "nbformat": 4,
 "nbformat_minor": 5
}
